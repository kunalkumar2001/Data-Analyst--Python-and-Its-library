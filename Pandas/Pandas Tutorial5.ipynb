{
 "cells": [
  {
   "cell_type": "markdown",
   "id": "7a04dcfc",
   "metadata": {},
   "source": [
    "###### Python Pandas Working With XML Tutorials- Part 5\n",
    "\n",
    "    1.Read XML and get Dataframe\n",
    "    2.Convert Dataframe to XML\n",
    "\n",
    "    \n",
    "What is XML?\n",
    "\n",
    "    1.XML stands for eXtensible Markup Language\n",
    "    2.XML is a markup language much like HTML\n",
    "    3.XML was designed to store and transport data\n",
    "    4.XML was designed to be self-descriptive\n",
    "    5.XML is a W3C Recommendation\n"
   ]
  },
  {
   "cell_type": "code",
   "execution_count": 1,
   "id": "de6bfde4",
   "metadata": {},
   "outputs": [
    {
     "name": "stdout",
     "output_type": "stream",
     "text": [
      "Requirement already satisfied: pandas in c:\\users\\rajeev\\anaconda3\\lib\\site-packages (2.0.3)\n",
      "Requirement already satisfied: numpy>=1.20.3 in c:\\users\\rajeev\\anaconda3\\lib\\site-packages (from pandas) (1.24.4)\n",
      "Requirement already satisfied: pytz>=2020.1 in c:\\users\\rajeev\\anaconda3\\lib\\site-packages (from pandas) (2021.1)\n",
      "Requirement already satisfied: tzdata>=2022.1 in c:\\users\\rajeev\\anaconda3\\lib\\site-packages (from pandas) (2024.2)\n",
      "Requirement already satisfied: python-dateutil>=2.8.2 in c:\\users\\rajeev\\anaconda3\\lib\\site-packages (from pandas) (2.9.0.post0)\n",
      "Requirement already satisfied: six>=1.5 in c:\\users\\rajeev\\anaconda3\\lib\\site-packages (from python-dateutil>=2.8.2->pandas) (1.15.0)\n"
     ]
    }
   ],
   "source": [
    "import pandas as pd\n",
    "!pip install --upgrade pandas\n"
   ]
  },
  {
   "cell_type": "code",
   "execution_count": 3,
   "id": "d2edd85b",
   "metadata": {},
   "outputs": [],
   "source": [
    "xml = '''<?xml version='1.0' encoding='utf-8'?>\n",
    "<data xmlns=\"http://example.com\">\n",
    " <row>\n",
    "   <shape>square</shape>\n",
    "   <degrees>360</degrees>\n",
    "   <sides>4.0</sides>\n",
    "   <firstname>Kunal</firstname>\n",
    " </row>\n",
    " <row>\n",
    "   <shape>circle</shape>\n",
    "   <degrees>360</degrees>\n",
    "   <sides/>\n",
    "   <firstname/>\n",
    " </row>\n",
    " <row>\n",
    "   <shape>triangle</shape>\n",
    "   <degrees>180</degrees>\n",
    "   <sides>3.0</sides>\n",
    "   <firstname/>\n",
    " </row>\n",
    "</data>'''\n"
   ]
  },
  {
   "cell_type": "code",
   "execution_count": 4,
   "id": "21f06f5c",
   "metadata": {},
   "outputs": [
    {
     "data": {
      "text/html": [
       "<div>\n",
       "<style scoped>\n",
       "    .dataframe tbody tr th:only-of-type {\n",
       "        vertical-align: middle;\n",
       "    }\n",
       "\n",
       "    .dataframe tbody tr th {\n",
       "        vertical-align: top;\n",
       "    }\n",
       "\n",
       "    .dataframe thead th {\n",
       "        text-align: right;\n",
       "    }\n",
       "</style>\n",
       "<table border=\"1\" class=\"dataframe\">\n",
       "  <thead>\n",
       "    <tr style=\"text-align: right;\">\n",
       "      <th></th>\n",
       "      <th>shape</th>\n",
       "      <th>degrees</th>\n",
       "      <th>sides</th>\n",
       "      <th>firstname</th>\n",
       "    </tr>\n",
       "  </thead>\n",
       "  <tbody>\n",
       "    <tr>\n",
       "      <th>0</th>\n",
       "      <td>square</td>\n",
       "      <td>360</td>\n",
       "      <td>4.0</td>\n",
       "      <td>Kunal</td>\n",
       "    </tr>\n",
       "    <tr>\n",
       "      <th>1</th>\n",
       "      <td>circle</td>\n",
       "      <td>360</td>\n",
       "      <td>NaN</td>\n",
       "      <td>None</td>\n",
       "    </tr>\n",
       "    <tr>\n",
       "      <th>2</th>\n",
       "      <td>triangle</td>\n",
       "      <td>180</td>\n",
       "      <td>3.0</td>\n",
       "      <td>None</td>\n",
       "    </tr>\n",
       "  </tbody>\n",
       "</table>\n",
       "</div>"
      ],
      "text/plain": [
       "      shape  degrees  sides firstname\n",
       "0    square      360    4.0     Kunal\n",
       "1    circle      360    NaN      None\n",
       "2  triangle      180    3.0      None"
      ]
     },
     "execution_count": 4,
     "metadata": {},
     "output_type": "execute_result"
    }
   ],
   "source": [
    "pd.read_xml(xml)\n"
   ]
  },
  {
   "cell_type": "code",
   "execution_count": 8,
   "id": "d922a851",
   "metadata": {},
   "outputs": [],
   "source": [
    "xml = '''<?xml version='1.0' encoding='utf-8'?>\n",
    "<data>\n",
    "  <row shape=\"square\" degrees=\"360\" sides=\"4.0\" firstname=\"Kunal\"/>\n",
    "  <row shape=\"circle\" degrees=\"360\"/>\n",
    "  <row shape=\"triangle\" degrees=\"180\" sides=\"3.0\" lastname=\"Kumar\"/>\n",
    "</data>'''"
   ]
  },
  {
   "cell_type": "code",
   "execution_count": 9,
   "id": "6e7491e2",
   "metadata": {},
   "outputs": [
    {
     "data": {
      "text/html": [
       "<div>\n",
       "<style scoped>\n",
       "    .dataframe tbody tr th:only-of-type {\n",
       "        vertical-align: middle;\n",
       "    }\n",
       "\n",
       "    .dataframe tbody tr th {\n",
       "        vertical-align: top;\n",
       "    }\n",
       "\n",
       "    .dataframe thead th {\n",
       "        text-align: right;\n",
       "    }\n",
       "</style>\n",
       "<table border=\"1\" class=\"dataframe\">\n",
       "  <thead>\n",
       "    <tr style=\"text-align: right;\">\n",
       "      <th></th>\n",
       "      <th>shape</th>\n",
       "      <th>degrees</th>\n",
       "      <th>sides</th>\n",
       "      <th>firstname</th>\n",
       "      <th>lastname</th>\n",
       "    </tr>\n",
       "  </thead>\n",
       "  <tbody>\n",
       "    <tr>\n",
       "      <th>0</th>\n",
       "      <td>square</td>\n",
       "      <td>360</td>\n",
       "      <td>4.0</td>\n",
       "      <td>Kunal</td>\n",
       "      <td>None</td>\n",
       "    </tr>\n",
       "    <tr>\n",
       "      <th>1</th>\n",
       "      <td>circle</td>\n",
       "      <td>360</td>\n",
       "      <td>NaN</td>\n",
       "      <td>None</td>\n",
       "      <td>None</td>\n",
       "    </tr>\n",
       "    <tr>\n",
       "      <th>2</th>\n",
       "      <td>triangle</td>\n",
       "      <td>180</td>\n",
       "      <td>3.0</td>\n",
       "      <td>None</td>\n",
       "      <td>Kumar</td>\n",
       "    </tr>\n",
       "  </tbody>\n",
       "</table>\n",
       "</div>"
      ],
      "text/plain": [
       "      shape  degrees  sides firstname lastname\n",
       "0    square      360    4.0     Kunal     None\n",
       "1    circle      360    NaN      None     None\n",
       "2  triangle      180    3.0      None    Kumar"
      ]
     },
     "execution_count": 9,
     "metadata": {},
     "output_type": "execute_result"
    }
   ],
   "source": [
    "pd.read_xml(xml)"
   ]
  },
  {
   "cell_type": "code",
   "execution_count": 10,
   "id": "d92c758d",
   "metadata": {},
   "outputs": [
    {
     "data": {
      "text/html": [
       "<div>\n",
       "<style scoped>\n",
       "    .dataframe tbody tr th:only-of-type {\n",
       "        vertical-align: middle;\n",
       "    }\n",
       "\n",
       "    .dataframe tbody tr th {\n",
       "        vertical-align: top;\n",
       "    }\n",
       "\n",
       "    .dataframe thead th {\n",
       "        text-align: right;\n",
       "    }\n",
       "</style>\n",
       "<table border=\"1\" class=\"dataframe\">\n",
       "  <thead>\n",
       "    <tr style=\"text-align: right;\">\n",
       "      <th></th>\n",
       "      <th>shape</th>\n",
       "      <th>degrees</th>\n",
       "      <th>sides</th>\n",
       "      <th>firstname</th>\n",
       "      <th>lastname</th>\n",
       "    </tr>\n",
       "  </thead>\n",
       "  <tbody>\n",
       "    <tr>\n",
       "      <th>0</th>\n",
       "      <td>square</td>\n",
       "      <td>360</td>\n",
       "      <td>4.0</td>\n",
       "      <td>Kunal</td>\n",
       "      <td>None</td>\n",
       "    </tr>\n",
       "    <tr>\n",
       "      <th>1</th>\n",
       "      <td>circle</td>\n",
       "      <td>360</td>\n",
       "      <td>NaN</td>\n",
       "      <td>None</td>\n",
       "      <td>None</td>\n",
       "    </tr>\n",
       "    <tr>\n",
       "      <th>2</th>\n",
       "      <td>triangle</td>\n",
       "      <td>180</td>\n",
       "      <td>3.0</td>\n",
       "      <td>None</td>\n",
       "      <td>Kumar</td>\n",
       "    </tr>\n",
       "  </tbody>\n",
       "</table>\n",
       "</div>"
      ],
      "text/plain": [
       "      shape  degrees  sides firstname lastname\n",
       "0    square      360    4.0     Kunal     None\n",
       "1    circle      360    NaN      None     None\n",
       "2  triangle      180    3.0      None    Kumar"
      ]
     },
     "execution_count": 10,
     "metadata": {},
     "output_type": "execute_result"
    }
   ],
   "source": [
    "pd.read_xml(xml,xpath=\".//row\")"
   ]
  },
  {
   "cell_type": "code",
   "execution_count": 11,
   "id": "056ef250",
   "metadata": {},
   "outputs": [],
   "source": [
    "xml = '''<?xml version='1.0' encoding='utf-8'?>\n",
    "<doc:data xmlns:doc=\"https://example.com\">\n",
    "  <doc:row>\n",
    "    <doc:shape>square</doc:shape>\n",
    "    <doc:degrees>360</doc:degrees>\n",
    "    <doc:sides>4.0</doc:sides>\n",
    "  </doc:row>\n",
    "  <doc:row>\n",
    "    <doc:shape>circle</doc:shape>\n",
    "    <doc:degrees>360</doc:degrees>\n",
    "    <doc:sides/>\n",
    "  </doc:row>\n",
    "  <doc:row>\n",
    "    <doc:shape>triangle</doc:shape>\n",
    "    <doc:degrees>180</doc:degrees>\n",
    "    <doc:sides>3.0</doc:sides>\n",
    "  </doc:row>\n",
    "</doc:data>'''"
   ]
  },
  {
   "cell_type": "code",
   "execution_count": 16,
   "id": "eeb7ae17",
   "metadata": {},
   "outputs": [],
   "source": [
    "df= pd.read_xml(xml,xpath=\".//doc:row\",namespaces={\"doc\": \"https://example.com\"})"
   ]
  },
  {
   "cell_type": "code",
   "execution_count": 17,
   "id": "d27f6ee3",
   "metadata": {},
   "outputs": [
    {
     "data": {
      "text/html": [
       "<div>\n",
       "<style scoped>\n",
       "    .dataframe tbody tr th:only-of-type {\n",
       "        vertical-align: middle;\n",
       "    }\n",
       "\n",
       "    .dataframe tbody tr th {\n",
       "        vertical-align: top;\n",
       "    }\n",
       "\n",
       "    .dataframe thead th {\n",
       "        text-align: right;\n",
       "    }\n",
       "</style>\n",
       "<table border=\"1\" class=\"dataframe\">\n",
       "  <thead>\n",
       "    <tr style=\"text-align: right;\">\n",
       "      <th></th>\n",
       "      <th>shape</th>\n",
       "      <th>degrees</th>\n",
       "      <th>sides</th>\n",
       "    </tr>\n",
       "  </thead>\n",
       "  <tbody>\n",
       "    <tr>\n",
       "      <th>0</th>\n",
       "      <td>square</td>\n",
       "      <td>360</td>\n",
       "      <td>4.0</td>\n",
       "    </tr>\n",
       "    <tr>\n",
       "      <th>1</th>\n",
       "      <td>circle</td>\n",
       "      <td>360</td>\n",
       "      <td>NaN</td>\n",
       "    </tr>\n",
       "    <tr>\n",
       "      <th>2</th>\n",
       "      <td>triangle</td>\n",
       "      <td>180</td>\n",
       "      <td>3.0</td>\n",
       "    </tr>\n",
       "  </tbody>\n",
       "</table>\n",
       "</div>"
      ],
      "text/plain": [
       "      shape  degrees  sides\n",
       "0    square      360    4.0\n",
       "1    circle      360    NaN\n",
       "2  triangle      180    3.0"
      ]
     },
     "execution_count": 17,
     "metadata": {},
     "output_type": "execute_result"
    }
   ],
   "source": [
    "df"
   ]
  },
  {
   "cell_type": "code",
   "execution_count": null,
   "id": "095a9be1",
   "metadata": {},
   "outputs": [],
   "source": []
  }
 ],
 "metadata": {
  "kernelspec": {
   "display_name": "Python 3",
   "language": "python",
   "name": "python3"
  },
  "language_info": {
   "codemirror_mode": {
    "name": "ipython",
    "version": 3
   },
   "file_extension": ".py",
   "mimetype": "text/x-python",
   "name": "python",
   "nbconvert_exporter": "python",
   "pygments_lexer": "ipython3",
   "version": "3.8.8"
  }
 },
 "nbformat": 4,
 "nbformat_minor": 5
}
